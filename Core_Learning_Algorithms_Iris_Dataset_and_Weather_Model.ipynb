{
  "nbformat": 4,
  "nbformat_minor": 0,
  "metadata": {
    "colab": {
      "name": "Core Learning Algorithms - Iris Dataset and Weather Model.ipynb",
      "provenance": [],
      "collapsed_sections": []
    },
    "kernelspec": {
      "name": "python3",
      "display_name": "Python 3"
    },
    "language_info": {
      "name": "python"
    }
  },
  "cells": [
    {
      "cell_type": "code",
      "metadata": {
        "id": "oxs8PQoDi84d"
      },
      "source": [
        "!pip install -q sklearn"
      ],
      "execution_count": null,
      "outputs": []
    },
    {
      "cell_type": "code",
      "metadata": {
        "id": "JWzzAuHLjEVE"
      },
      "source": [
        "%tensorflow_version 2.x\n",
        "import tensorflow as tf\n",
        "# print(tf.version) #checking tf version"
      ],
      "execution_count": null,
      "outputs": []
    },
    {
      "cell_type": "code",
      "metadata": {
        "id": "qVSGu-LJjF2T"
      },
      "source": [
        "from __future__ import absolute_import, division, print_function, unicode_literals\n",
        "\n",
        "import pandas as pd"
      ],
      "execution_count": null,
      "outputs": []
    },
    {
      "cell_type": "code",
      "metadata": {
        "id": "16GAovTGkgo5"
      },
      "source": [
        "CSV_COLUMN_NAMES = ['SepalLength', 'SepalWidth', 'PetalLength', 'PetalWidth', 'Species']\n",
        "SPECIES = ['Setosa', 'Versicolor', 'Virginica']\n",
        "# Lets define some constants to help us later on"
      ],
      "execution_count": null,
      "outputs": []
    },
    {
      "cell_type": "code",
      "metadata": {
        "colab": {
          "base_uri": "https://localhost:8080/"
        },
        "id": "n_nCjBc5knkf",
        "outputId": "f9a4ffef-5d11-486f-92e6-9f672e622de3"
      },
      "source": [
        "train_path = tf.keras.utils.get_file(\n",
        "    \"iris_training.csv\", \"https://storage.googleapis.com/download.tensorflow.org/data/iris_training.csv\")\n",
        "test_path = tf.keras.utils.get_file(\n",
        "    \"iris_test.csv\", \"https://storage.googleapis.com/download.tensorflow.org/data/iris_test.csv\")\n",
        "\n",
        "train = pd.read_csv(train_path, names=CSV_COLUMN_NAMES, header=0)\n",
        "test = pd.read_csv(test_path, names=CSV_COLUMN_NAMES, header=0)\n",
        "# Here we use keras (a module inside of TensorFlow) to grab our datasets and read them into a pandas dataframe"
      ],
      "execution_count": null,
      "outputs": [
        {
          "output_type": "stream",
          "name": "stdout",
          "text": [
            "Downloading data from https://storage.googleapis.com/download.tensorflow.org/data/iris_training.csv\n",
            "16384/2194 [================================================================================================================================================================================================================================] - 0s 0us/step\n",
            "Downloading data from https://storage.googleapis.com/download.tensorflow.org/data/iris_test.csv\n",
            "16384/573 [=========================================================================================================================================================================================================================================================================================================================================================================================================================================================================================================================================================================================================================================================================================================================================================================================================================================================================================] - 0s 0us/step\n"
          ]
        }
      ]
    },
    {
      "cell_type": "code",
      "metadata": {
        "colab": {
          "base_uri": "https://localhost:8080/",
          "height": 202
        },
        "id": "R-IVZTWbkrX6",
        "outputId": "554b3e7f-d187-4f53-be16-5475c188c3ed"
      },
      "source": [
        "train.head()"
      ],
      "execution_count": null,
      "outputs": [
        {
          "output_type": "execute_result",
          "data": {
            "text/html": [
              "<div>\n",
              "<style scoped>\n",
              "    .dataframe tbody tr th:only-of-type {\n",
              "        vertical-align: middle;\n",
              "    }\n",
              "\n",
              "    .dataframe tbody tr th {\n",
              "        vertical-align: top;\n",
              "    }\n",
              "\n",
              "    .dataframe thead th {\n",
              "        text-align: right;\n",
              "    }\n",
              "</style>\n",
              "<table border=\"1\" class=\"dataframe\">\n",
              "  <thead>\n",
              "    <tr style=\"text-align: right;\">\n",
              "      <th></th>\n",
              "      <th>SepalLength</th>\n",
              "      <th>SepalWidth</th>\n",
              "      <th>PetalLength</th>\n",
              "      <th>PetalWidth</th>\n",
              "      <th>Species</th>\n",
              "    </tr>\n",
              "  </thead>\n",
              "  <tbody>\n",
              "    <tr>\n",
              "      <th>0</th>\n",
              "      <td>6.4</td>\n",
              "      <td>2.8</td>\n",
              "      <td>5.6</td>\n",
              "      <td>2.2</td>\n",
              "      <td>2</td>\n",
              "    </tr>\n",
              "    <tr>\n",
              "      <th>1</th>\n",
              "      <td>5.0</td>\n",
              "      <td>2.3</td>\n",
              "      <td>3.3</td>\n",
              "      <td>1.0</td>\n",
              "      <td>1</td>\n",
              "    </tr>\n",
              "    <tr>\n",
              "      <th>2</th>\n",
              "      <td>4.9</td>\n",
              "      <td>2.5</td>\n",
              "      <td>4.5</td>\n",
              "      <td>1.7</td>\n",
              "      <td>2</td>\n",
              "    </tr>\n",
              "    <tr>\n",
              "      <th>3</th>\n",
              "      <td>4.9</td>\n",
              "      <td>3.1</td>\n",
              "      <td>1.5</td>\n",
              "      <td>0.1</td>\n",
              "      <td>0</td>\n",
              "    </tr>\n",
              "    <tr>\n",
              "      <th>4</th>\n",
              "      <td>5.7</td>\n",
              "      <td>3.8</td>\n",
              "      <td>1.7</td>\n",
              "      <td>0.3</td>\n",
              "      <td>0</td>\n",
              "    </tr>\n",
              "  </tbody>\n",
              "</table>\n",
              "</div>"
            ],
            "text/plain": [
              "   SepalLength  SepalWidth  PetalLength  PetalWidth  Species\n",
              "0          6.4         2.8          5.6         2.2        2\n",
              "1          5.0         2.3          3.3         1.0        1\n",
              "2          4.9         2.5          4.5         1.7        2\n",
              "3          4.9         3.1          1.5         0.1        0\n",
              "4          5.7         3.8          1.7         0.3        0"
            ]
          },
          "metadata": {},
          "execution_count": 9
        }
      ]
    },
    {
      "cell_type": "code",
      "metadata": {
        "colab": {
          "base_uri": "https://localhost:8080/",
          "height": 222
        },
        "id": "udPBKXcpk8xd",
        "outputId": "68743339-62ff-406d-c55e-ca4a5232f1d1"
      },
      "source": [
        "train.groupby(\"Species\").describe()"
      ],
      "execution_count": null,
      "outputs": [
        {
          "output_type": "execute_result",
          "data": {
            "text/html": [
              "<div>\n",
              "<style scoped>\n",
              "    .dataframe tbody tr th:only-of-type {\n",
              "        vertical-align: middle;\n",
              "    }\n",
              "\n",
              "    .dataframe tbody tr th {\n",
              "        vertical-align: top;\n",
              "    }\n",
              "\n",
              "    .dataframe thead tr th {\n",
              "        text-align: left;\n",
              "    }\n",
              "\n",
              "    .dataframe thead tr:last-of-type th {\n",
              "        text-align: right;\n",
              "    }\n",
              "</style>\n",
              "<table border=\"1\" class=\"dataframe\">\n",
              "  <thead>\n",
              "    <tr>\n",
              "      <th></th>\n",
              "      <th colspan=\"8\" halign=\"left\">SepalLength</th>\n",
              "      <th colspan=\"8\" halign=\"left\">SepalWidth</th>\n",
              "      <th colspan=\"8\" halign=\"left\">PetalLength</th>\n",
              "      <th colspan=\"8\" halign=\"left\">PetalWidth</th>\n",
              "    </tr>\n",
              "    <tr>\n",
              "      <th></th>\n",
              "      <th>count</th>\n",
              "      <th>mean</th>\n",
              "      <th>std</th>\n",
              "      <th>min</th>\n",
              "      <th>25%</th>\n",
              "      <th>50%</th>\n",
              "      <th>75%</th>\n",
              "      <th>max</th>\n",
              "      <th>count</th>\n",
              "      <th>mean</th>\n",
              "      <th>std</th>\n",
              "      <th>min</th>\n",
              "      <th>25%</th>\n",
              "      <th>50%</th>\n",
              "      <th>75%</th>\n",
              "      <th>max</th>\n",
              "      <th>count</th>\n",
              "      <th>mean</th>\n",
              "      <th>std</th>\n",
              "      <th>min</th>\n",
              "      <th>25%</th>\n",
              "      <th>50%</th>\n",
              "      <th>75%</th>\n",
              "      <th>max</th>\n",
              "      <th>count</th>\n",
              "      <th>mean</th>\n",
              "      <th>std</th>\n",
              "      <th>min</th>\n",
              "      <th>25%</th>\n",
              "      <th>50%</th>\n",
              "      <th>75%</th>\n",
              "      <th>max</th>\n",
              "    </tr>\n",
              "    <tr>\n",
              "      <th>Species</th>\n",
              "      <th></th>\n",
              "      <th></th>\n",
              "      <th></th>\n",
              "      <th></th>\n",
              "      <th></th>\n",
              "      <th></th>\n",
              "      <th></th>\n",
              "      <th></th>\n",
              "      <th></th>\n",
              "      <th></th>\n",
              "      <th></th>\n",
              "      <th></th>\n",
              "      <th></th>\n",
              "      <th></th>\n",
              "      <th></th>\n",
              "      <th></th>\n",
              "      <th></th>\n",
              "      <th></th>\n",
              "      <th></th>\n",
              "      <th></th>\n",
              "      <th></th>\n",
              "      <th></th>\n",
              "      <th></th>\n",
              "      <th></th>\n",
              "      <th></th>\n",
              "      <th></th>\n",
              "      <th></th>\n",
              "      <th></th>\n",
              "      <th></th>\n",
              "      <th></th>\n",
              "      <th></th>\n",
              "      <th></th>\n",
              "    </tr>\n",
              "  </thead>\n",
              "  <tbody>\n",
              "    <tr>\n",
              "      <th>0</th>\n",
              "      <td>42.0</td>\n",
              "      <td>4.995238</td>\n",
              "      <td>0.351965</td>\n",
              "      <td>4.4</td>\n",
              "      <td>4.800</td>\n",
              "      <td>5.00</td>\n",
              "      <td>5.175</td>\n",
              "      <td>5.8</td>\n",
              "      <td>42.0</td>\n",
              "      <td>3.395238</td>\n",
              "      <td>0.376733</td>\n",
              "      <td>2.3</td>\n",
              "      <td>3.100</td>\n",
              "      <td>3.4</td>\n",
              "      <td>3.675</td>\n",
              "      <td>4.4</td>\n",
              "      <td>42.0</td>\n",
              "      <td>1.452381</td>\n",
              "      <td>0.158096</td>\n",
              "      <td>1.0</td>\n",
              "      <td>1.400</td>\n",
              "      <td>1.50</td>\n",
              "      <td>1.500</td>\n",
              "      <td>1.9</td>\n",
              "      <td>42.0</td>\n",
              "      <td>0.250000</td>\n",
              "      <td>0.104181</td>\n",
              "      <td>0.1</td>\n",
              "      <td>0.2</td>\n",
              "      <td>0.2</td>\n",
              "      <td>0.3</td>\n",
              "      <td>0.6</td>\n",
              "    </tr>\n",
              "    <tr>\n",
              "      <th>1</th>\n",
              "      <td>36.0</td>\n",
              "      <td>5.930556</td>\n",
              "      <td>0.569119</td>\n",
              "      <td>4.9</td>\n",
              "      <td>5.575</td>\n",
              "      <td>5.85</td>\n",
              "      <td>6.325</td>\n",
              "      <td>7.0</td>\n",
              "      <td>36.0</td>\n",
              "      <td>2.761111</td>\n",
              "      <td>0.309172</td>\n",
              "      <td>2.0</td>\n",
              "      <td>2.575</td>\n",
              "      <td>2.8</td>\n",
              "      <td>3.000</td>\n",
              "      <td>3.3</td>\n",
              "      <td>36.0</td>\n",
              "      <td>4.263889</td>\n",
              "      <td>0.508304</td>\n",
              "      <td>3.0</td>\n",
              "      <td>3.975</td>\n",
              "      <td>4.40</td>\n",
              "      <td>4.625</td>\n",
              "      <td>5.1</td>\n",
              "      <td>36.0</td>\n",
              "      <td>1.322222</td>\n",
              "      <td>0.205789</td>\n",
              "      <td>1.0</td>\n",
              "      <td>1.2</td>\n",
              "      <td>1.3</td>\n",
              "      <td>1.5</td>\n",
              "      <td>1.8</td>\n",
              "    </tr>\n",
              "    <tr>\n",
              "      <th>2</th>\n",
              "      <td>42.0</td>\n",
              "      <td>6.621429</td>\n",
              "      <td>0.652401</td>\n",
              "      <td>4.9</td>\n",
              "      <td>6.225</td>\n",
              "      <td>6.50</td>\n",
              "      <td>7.125</td>\n",
              "      <td>7.9</td>\n",
              "      <td>42.0</td>\n",
              "      <td>2.995238</td>\n",
              "      <td>0.329043</td>\n",
              "      <td>2.2</td>\n",
              "      <td>2.800</td>\n",
              "      <td>3.0</td>\n",
              "      <td>3.200</td>\n",
              "      <td>3.8</td>\n",
              "      <td>42.0</td>\n",
              "      <td>5.576190</td>\n",
              "      <td>0.578817</td>\n",
              "      <td>4.5</td>\n",
              "      <td>5.100</td>\n",
              "      <td>5.55</td>\n",
              "      <td>5.975</td>\n",
              "      <td>6.9</td>\n",
              "      <td>42.0</td>\n",
              "      <td>2.035714</td>\n",
              "      <td>0.273925</td>\n",
              "      <td>1.4</td>\n",
              "      <td>1.8</td>\n",
              "      <td>2.0</td>\n",
              "      <td>2.3</td>\n",
              "      <td>2.5</td>\n",
              "    </tr>\n",
              "  </tbody>\n",
              "</table>\n",
              "</div>"
            ],
            "text/plain": [
              "        SepalLength                                  ... PetalWidth                    \n",
              "              count      mean       std  min    25%  ...        min  25%  50%  75%  max\n",
              "Species                                              ...                               \n",
              "0              42.0  4.995238  0.351965  4.4  4.800  ...        0.1  0.2  0.2  0.3  0.6\n",
              "1              36.0  5.930556  0.569119  4.9  5.575  ...        1.0  1.2  1.3  1.5  1.8\n",
              "2              42.0  6.621429  0.652401  4.9  6.225  ...        1.4  1.8  2.0  2.3  2.5\n",
              "\n",
              "[3 rows x 32 columns]"
            ]
          },
          "metadata": {},
          "execution_count": 10
        }
      ]
    },
    {
      "cell_type": "code",
      "metadata": {
        "colab": {
          "base_uri": "https://localhost:8080/",
          "height": 202
        },
        "id": "pIIbhUJ4k_UQ",
        "outputId": "8d23e4f5-9daa-411c-fb8e-d4d78fd00359"
      },
      "source": [
        "train_y = train.pop('Species')\n",
        "test_y = test.pop('Species')\n",
        "train.head() # the species column is now gone"
      ],
      "execution_count": null,
      "outputs": [
        {
          "output_type": "execute_result",
          "data": {
            "text/html": [
              "<div>\n",
              "<style scoped>\n",
              "    .dataframe tbody tr th:only-of-type {\n",
              "        vertical-align: middle;\n",
              "    }\n",
              "\n",
              "    .dataframe tbody tr th {\n",
              "        vertical-align: top;\n",
              "    }\n",
              "\n",
              "    .dataframe thead th {\n",
              "        text-align: right;\n",
              "    }\n",
              "</style>\n",
              "<table border=\"1\" class=\"dataframe\">\n",
              "  <thead>\n",
              "    <tr style=\"text-align: right;\">\n",
              "      <th></th>\n",
              "      <th>SepalLength</th>\n",
              "      <th>SepalWidth</th>\n",
              "      <th>PetalLength</th>\n",
              "      <th>PetalWidth</th>\n",
              "    </tr>\n",
              "  </thead>\n",
              "  <tbody>\n",
              "    <tr>\n",
              "      <th>0</th>\n",
              "      <td>6.4</td>\n",
              "      <td>2.8</td>\n",
              "      <td>5.6</td>\n",
              "      <td>2.2</td>\n",
              "    </tr>\n",
              "    <tr>\n",
              "      <th>1</th>\n",
              "      <td>5.0</td>\n",
              "      <td>2.3</td>\n",
              "      <td>3.3</td>\n",
              "      <td>1.0</td>\n",
              "    </tr>\n",
              "    <tr>\n",
              "      <th>2</th>\n",
              "      <td>4.9</td>\n",
              "      <td>2.5</td>\n",
              "      <td>4.5</td>\n",
              "      <td>1.7</td>\n",
              "    </tr>\n",
              "    <tr>\n",
              "      <th>3</th>\n",
              "      <td>4.9</td>\n",
              "      <td>3.1</td>\n",
              "      <td>1.5</td>\n",
              "      <td>0.1</td>\n",
              "    </tr>\n",
              "    <tr>\n",
              "      <th>4</th>\n",
              "      <td>5.7</td>\n",
              "      <td>3.8</td>\n",
              "      <td>1.7</td>\n",
              "      <td>0.3</td>\n",
              "    </tr>\n",
              "  </tbody>\n",
              "</table>\n",
              "</div>"
            ],
            "text/plain": [
              "   SepalLength  SepalWidth  PetalLength  PetalWidth\n",
              "0          6.4         2.8          5.6         2.2\n",
              "1          5.0         2.3          3.3         1.0\n",
              "2          4.9         2.5          4.5         1.7\n",
              "3          4.9         3.1          1.5         0.1\n",
              "4          5.7         3.8          1.7         0.3"
            ]
          },
          "metadata": {},
          "execution_count": 11
        }
      ]
    },
    {
      "cell_type": "code",
      "metadata": {
        "id": "ahGoVNUOm8Na"
      },
      "source": [
        "def input_fn(features, labels, training=True, batch_size=243):\n",
        "    dataset = tf.data.Dataset.from_tensor_slices((dict(features), labels))\n",
        "\n",
        "    # Shuffle and repeat if you are in training mode.\n",
        "    if training:\n",
        "        dataset = dataset.shuffle(1000).repeat()\n",
        "    \n",
        "    return dataset.batch(batch_size)"
      ],
      "execution_count": null,
      "outputs": []
    },
    {
      "cell_type": "code",
      "metadata": {
        "id": "1m9AgFQxnDvi"
      },
      "source": [
        "# Feature columns describe how to use the input.\n",
        "my_feature_columns = []\n",
        "for key in train.keys():\n",
        "    my_feature_columns.append(tf.feature_column.numeric_column(key=key))\n",
        "#print(my_feature_columns)"
      ],
      "execution_count": null,
      "outputs": []
    },
    {
      "cell_type": "code",
      "metadata": {
        "colab": {
          "base_uri": "https://localhost:8080/"
        },
        "id": "CGwaf7zrnR6i",
        "outputId": "e33724be-4fa9-4136-d48e-fdce9a2d6556"
      },
      "source": [
        "# Build a DNN with 2 hidden layers with 30 and 10 hidden nodes each.\n",
        "classifier = tf.estimator.DNNClassifier(\n",
        "    feature_columns=my_feature_columns,\n",
        "    hidden_units=[34, 12],\n",
        "    n_classes=3)"
      ],
      "execution_count": null,
      "outputs": [
        {
          "output_type": "stream",
          "name": "stdout",
          "text": [
            "INFO:tensorflow:Using default config.\n",
            "WARNING:tensorflow:Using temporary folder as model directory: /tmp/tmpd4jiltd6\n",
            "INFO:tensorflow:Using config: {'_model_dir': '/tmp/tmpd4jiltd6', '_tf_random_seed': None, '_save_summary_steps': 100, '_save_checkpoints_steps': None, '_save_checkpoints_secs': 600, '_session_config': allow_soft_placement: true\n",
            "graph_options {\n",
            "  rewrite_options {\n",
            "    meta_optimizer_iterations: ONE\n",
            "  }\n",
            "}\n",
            ", '_keep_checkpoint_max': 5, '_keep_checkpoint_every_n_hours': 10000, '_log_step_count_steps': 100, '_train_distribute': None, '_device_fn': None, '_protocol': None, '_eval_distribute': None, '_experimental_distribute': None, '_experimental_max_worker_delay_secs': None, '_session_creation_timeout_secs': 7200, '_checkpoint_save_graph_def': True, '_service': None, '_cluster_spec': ClusterSpec({}), '_task_type': 'worker', '_task_id': 0, '_global_id_in_cluster': 0, '_master': '', '_evaluation_master': '', '_is_chief': True, '_num_ps_replicas': 0, '_num_worker_replicas': 1}\n"
          ]
        }
      ]
    },
    {
      "cell_type": "code",
      "metadata": {
        "colab": {
          "base_uri": "https://localhost:8080/"
        },
        "id": "DxedICYWoH4x",
        "outputId": "cd06a2d2-ca4d-4dc5-e4a6-9a5392d94546"
      },
      "source": [
        "classifier.train(\n",
        "    input_fn=lambda: input_fn(train, train_y, training=True),\n",
        "    steps=5000)"
      ],
      "execution_count": null,
      "outputs": [
        {
          "output_type": "stream",
          "name": "stdout",
          "text": [
            "WARNING:tensorflow:From /usr/local/lib/python3.7/dist-packages/tensorflow/python/training/training_util.py:236: Variable.initialized_value (from tensorflow.python.ops.variables) is deprecated and will be removed in a future version.\n",
            "Instructions for updating:\n",
            "Use Variable.read_value. Variables in 2.X are initialized automatically both in eager and graph (inside tf.defun) contexts.\n",
            "INFO:tensorflow:Calling model_fn.\n",
            "WARNING:tensorflow:From /usr/local/lib/python3.7/dist-packages/keras/optimizer_v2/adagrad.py:84: calling Constant.__init__ (from tensorflow.python.ops.init_ops) with dtype is deprecated and will be removed in a future version.\n",
            "Instructions for updating:\n",
            "Call initializer instance with the dtype argument instead of passing it to the constructor\n",
            "INFO:tensorflow:Done calling model_fn.\n",
            "INFO:tensorflow:Create CheckpointSaverHook.\n",
            "INFO:tensorflow:Graph was finalized.\n",
            "INFO:tensorflow:Running local_init_op.\n",
            "INFO:tensorflow:Done running local_init_op.\n",
            "INFO:tensorflow:Calling checkpoint listeners before saving checkpoint 0...\n",
            "INFO:tensorflow:Saving checkpoints for 0 into /tmp/tmpd4jiltd6/model.ckpt.\n",
            "INFO:tensorflow:Calling checkpoint listeners after saving checkpoint 0...\n",
            "INFO:tensorflow:loss = 1.5448091, step = 0\n",
            "INFO:tensorflow:global_step/sec: 394.093\n",
            "INFO:tensorflow:loss = 0.94009817, step = 100 (0.260 sec)\n",
            "INFO:tensorflow:global_step/sec: 460.349\n",
            "INFO:tensorflow:loss = 0.8215659, step = 200 (0.214 sec)\n",
            "INFO:tensorflow:global_step/sec: 480.701\n",
            "INFO:tensorflow:loss = 0.743204, step = 300 (0.208 sec)\n",
            "INFO:tensorflow:global_step/sec: 467.07\n",
            "INFO:tensorflow:loss = 0.70235217, step = 400 (0.217 sec)\n",
            "INFO:tensorflow:global_step/sec: 428.312\n",
            "INFO:tensorflow:loss = 0.6700553, step = 500 (0.235 sec)\n",
            "INFO:tensorflow:global_step/sec: 458.054\n",
            "INFO:tensorflow:loss = 0.6373876, step = 600 (0.217 sec)\n",
            "INFO:tensorflow:global_step/sec: 501.274\n",
            "INFO:tensorflow:loss = 0.61412793, step = 700 (0.197 sec)\n",
            "INFO:tensorflow:global_step/sec: 484.256\n",
            "INFO:tensorflow:loss = 0.5916912, step = 800 (0.206 sec)\n",
            "INFO:tensorflow:global_step/sec: 498.597\n",
            "INFO:tensorflow:loss = 0.5744844, step = 900 (0.204 sec)\n",
            "INFO:tensorflow:global_step/sec: 514.498\n",
            "INFO:tensorflow:loss = 0.55952203, step = 1000 (0.195 sec)\n",
            "INFO:tensorflow:global_step/sec: 471.082\n",
            "INFO:tensorflow:loss = 0.53739893, step = 1100 (0.210 sec)\n",
            "INFO:tensorflow:global_step/sec: 453.697\n",
            "INFO:tensorflow:loss = 0.5306225, step = 1200 (0.222 sec)\n",
            "INFO:tensorflow:global_step/sec: 472.331\n",
            "INFO:tensorflow:loss = 0.51979756, step = 1300 (0.213 sec)\n",
            "INFO:tensorflow:global_step/sec: 492.404\n",
            "INFO:tensorflow:loss = 0.5122659, step = 1400 (0.201 sec)\n",
            "INFO:tensorflow:global_step/sec: 519.419\n",
            "INFO:tensorflow:loss = 0.50205165, step = 1500 (0.194 sec)\n",
            "INFO:tensorflow:global_step/sec: 511.027\n",
            "INFO:tensorflow:loss = 0.49501157, step = 1600 (0.196 sec)\n",
            "INFO:tensorflow:global_step/sec: 495.678\n",
            "INFO:tensorflow:loss = 0.48249277, step = 1700 (0.202 sec)\n",
            "INFO:tensorflow:global_step/sec: 457.542\n",
            "INFO:tensorflow:loss = 0.47477415, step = 1800 (0.216 sec)\n",
            "INFO:tensorflow:global_step/sec: 477.022\n",
            "INFO:tensorflow:loss = 0.4736905, step = 1900 (0.210 sec)\n",
            "INFO:tensorflow:global_step/sec: 455.041\n",
            "INFO:tensorflow:loss = 0.46479058, step = 2000 (0.217 sec)\n",
            "INFO:tensorflow:global_step/sec: 494.314\n",
            "INFO:tensorflow:loss = 0.47364813, step = 2100 (0.206 sec)\n",
            "INFO:tensorflow:global_step/sec: 507.04\n",
            "INFO:tensorflow:loss = 0.45331755, step = 2200 (0.200 sec)\n",
            "INFO:tensorflow:global_step/sec: 442.401\n",
            "INFO:tensorflow:loss = 0.44872648, step = 2300 (0.220 sec)\n",
            "INFO:tensorflow:global_step/sec: 489.896\n",
            "INFO:tensorflow:loss = 0.44343257, step = 2400 (0.204 sec)\n",
            "INFO:tensorflow:global_step/sec: 503.075\n",
            "INFO:tensorflow:loss = 0.44417635, step = 2500 (0.199 sec)\n",
            "INFO:tensorflow:global_step/sec: 507.755\n",
            "INFO:tensorflow:loss = 0.43382508, step = 2600 (0.200 sec)\n",
            "INFO:tensorflow:global_step/sec: 499.116\n",
            "INFO:tensorflow:loss = 0.4308603, step = 2700 (0.200 sec)\n",
            "INFO:tensorflow:global_step/sec: 472.651\n",
            "INFO:tensorflow:loss = 0.42355305, step = 2800 (0.208 sec)\n",
            "INFO:tensorflow:global_step/sec: 494.561\n",
            "INFO:tensorflow:loss = 0.4117527, step = 2900 (0.205 sec)\n",
            "INFO:tensorflow:global_step/sec: 487.283\n",
            "INFO:tensorflow:loss = 0.4148598, step = 3000 (0.205 sec)\n",
            "INFO:tensorflow:global_step/sec: 481.492\n",
            "INFO:tensorflow:loss = 0.4132759, step = 3100 (0.207 sec)\n",
            "INFO:tensorflow:global_step/sec: 495.151\n",
            "INFO:tensorflow:loss = 0.41146776, step = 3200 (0.202 sec)\n",
            "INFO:tensorflow:global_step/sec: 435.727\n",
            "INFO:tensorflow:loss = 0.40250626, step = 3300 (0.231 sec)\n",
            "INFO:tensorflow:global_step/sec: 510.594\n",
            "INFO:tensorflow:loss = 0.40015945, step = 3400 (0.195 sec)\n",
            "INFO:tensorflow:global_step/sec: 504.835\n",
            "INFO:tensorflow:loss = 0.3927466, step = 3500 (0.199 sec)\n",
            "INFO:tensorflow:global_step/sec: 500.319\n",
            "INFO:tensorflow:loss = 0.3952987, step = 3600 (0.199 sec)\n",
            "INFO:tensorflow:global_step/sec: 498.98\n",
            "INFO:tensorflow:loss = 0.39796573, step = 3700 (0.200 sec)\n",
            "INFO:tensorflow:global_step/sec: 482.369\n",
            "INFO:tensorflow:loss = 0.38649142, step = 3800 (0.205 sec)\n",
            "INFO:tensorflow:global_step/sec: 483.837\n",
            "INFO:tensorflow:loss = 0.38755956, step = 3900 (0.209 sec)\n",
            "INFO:tensorflow:global_step/sec: 501.872\n",
            "INFO:tensorflow:loss = 0.38193473, step = 4000 (0.200 sec)\n",
            "INFO:tensorflow:global_step/sec: 488.273\n",
            "INFO:tensorflow:loss = 0.37794235, step = 4100 (0.206 sec)\n",
            "INFO:tensorflow:global_step/sec: 474.232\n",
            "INFO:tensorflow:loss = 0.37407112, step = 4200 (0.207 sec)\n",
            "INFO:tensorflow:global_step/sec: 488.774\n",
            "INFO:tensorflow:loss = 0.3699862, step = 4300 (0.208 sec)\n",
            "INFO:tensorflow:global_step/sec: 496.555\n",
            "INFO:tensorflow:loss = 0.36917108, step = 4400 (0.202 sec)\n",
            "INFO:tensorflow:global_step/sec: 489.247\n",
            "INFO:tensorflow:loss = 0.3696523, step = 4500 (0.205 sec)\n",
            "INFO:tensorflow:global_step/sec: 475.852\n",
            "INFO:tensorflow:loss = 0.36553943, step = 4600 (0.206 sec)\n",
            "INFO:tensorflow:global_step/sec: 484.08\n",
            "INFO:tensorflow:loss = 0.3680747, step = 4700 (0.207 sec)\n",
            "INFO:tensorflow:global_step/sec: 480.688\n",
            "INFO:tensorflow:loss = 0.3581635, step = 4800 (0.208 sec)\n",
            "INFO:tensorflow:global_step/sec: 481.974\n",
            "INFO:tensorflow:loss = 0.33461308, step = 4900 (0.211 sec)\n",
            "INFO:tensorflow:Calling checkpoint listeners before saving checkpoint 5000...\n",
            "INFO:tensorflow:Saving checkpoints for 5000 into /tmp/tmpd4jiltd6/model.ckpt.\n",
            "INFO:tensorflow:Calling checkpoint listeners after saving checkpoint 5000...\n",
            "INFO:tensorflow:Loss for final step: 0.3517701.\n"
          ]
        },
        {
          "output_type": "execute_result",
          "data": {
            "text/plain": [
              "<tensorflow_estimator.python.estimator.canned.dnn.DNNClassifierV2 at 0x7f96f4e83790>"
            ]
          },
          "metadata": {},
          "execution_count": 15
        }
      ]
    },
    {
      "cell_type": "code",
      "metadata": {
        "colab": {
          "base_uri": "https://localhost:8080/"
        },
        "id": "fCxCwg-yoK_R",
        "outputId": "5aa13e5e-e936-42d1-9d18-ab3add408cfc"
      },
      "source": [
        "eval_result = classifier.evaluate(\n",
        "    input_fn=lambda: input_fn(test, test_y, training=False))\n",
        "\n",
        "print('\\nPrediction Accuracy : ',round(eval_result[\"accuracy\"]*100,2))"
      ],
      "execution_count": null,
      "outputs": [
        {
          "output_type": "stream",
          "name": "stdout",
          "text": [
            "INFO:tensorflow:Calling model_fn.\n",
            "INFO:tensorflow:Done calling model_fn.\n",
            "INFO:tensorflow:Starting evaluation at 2021-11-06T06:26:56\n",
            "INFO:tensorflow:Graph was finalized.\n",
            "INFO:tensorflow:Restoring parameters from /tmp/tmpd4jiltd6/model.ckpt-5000\n",
            "INFO:tensorflow:Running local_init_op.\n",
            "INFO:tensorflow:Done running local_init_op.\n",
            "INFO:tensorflow:Inference Time : 0.27677s\n",
            "INFO:tensorflow:Finished evaluation at 2021-11-06-06:26:56\n",
            "INFO:tensorflow:Saving dict for global step 5000: accuracy = 0.93333334, average_loss = 0.41302985, global_step = 5000, loss = 0.41302985\n",
            "INFO:tensorflow:Saving 'checkpoint_path' summary for global step 5000: /tmp/tmpd4jiltd6/model.ckpt-5000\n",
            "\n",
            "Prediction Accuracy :  93.33\n"
          ]
        }
      ]
    },
    {
      "cell_type": "code",
      "metadata": {
        "colab": {
          "base_uri": "https://localhost:8080/"
        },
        "id": "uANrmVS0opBk",
        "outputId": "dffbe38f-2b15-4ca5-ae88-587d577dce60"
      },
      "source": [
        "1def input_fn(features, batch_size=256):\n",
        "    # Convert the inputs to a Dataset without labels.\n",
        "    return tf.data.Dataset.from_tensor_slices(dict(features)).batch(batch_size)\n",
        "\n",
        "features = ['SepalLength', 'SepalWidth', 'PetalLength', 'PetalWidth']\n",
        "predict = {}\n",
        "\n",
        "print(\"Please type numeric values as prompted.\")\n",
        "for feature in features:\n",
        "  valid = True\n",
        "  while valid: \n",
        "    val = input(feature + \": \")\n",
        "    if not val.isdigit(): valid = False\n",
        "\n",
        "  predict[feature] = [float(val)]\n",
        "\n",
        "predictions = classifier.predict(input_fn=lambda: input_fn(predict))\n",
        "for pred_dict in predictions:\n",
        "  #print(pred_dict)\n",
        "    class_id = pred_dict['class_ids'][0]\n",
        "    probability = pred_dict['probabilities'][class_id]\n",
        "\n",
        "    print('Prediction is \"{}\" ({:.1f}%)'.format(\n",
        "        SPECIES[class_id], 100 * probability))"
      ],
      "execution_count": null,
      "outputs": [
        {
          "output_type": "stream",
          "name": "stdout",
          "text": [
            "Please type numeric values as prompted.\n",
            "SepalLength: 1.1\n",
            "SepalWidth: 1.1\n",
            "PetalLength: 1.1\n",
            "PetalWidth: 1.1\n",
            "INFO:tensorflow:Calling model_fn.\n",
            "INFO:tensorflow:Done calling model_fn.\n",
            "INFO:tensorflow:Graph was finalized.\n",
            "INFO:tensorflow:Restoring parameters from /tmp/tmpd4jiltd6/model.ckpt-5000\n",
            "INFO:tensorflow:Running local_init_op.\n",
            "INFO:tensorflow:Done running local_init_op.\n",
            "Prediction is \"Versicolor\" (38.6%)\n"
          ]
        }
      ]
    },
    {
      "cell_type": "markdown",
      "metadata": {
        "id": "KdNuJjsL7rr3"
      },
      "source": [
        "Weather Model \n"
      ]
    },
    {
      "cell_type": "markdown",
      "metadata": {
        "id": "MhqH6v-u8G6H"
      },
      "source": [
        "Using Hidden Morkov Model"
      ]
    },
    {
      "cell_type": "code",
      "metadata": {
        "colab": {
          "base_uri": "https://localhost:8080/"
        },
        "id": "QhXJj74Vc5sy",
        "outputId": "44b9ffcf-8967-4165-940d-56a05c0b0880"
      },
      "source": [
        "!pip install tensorflow_probability==0.8.0rc0 --user --upgrade"
      ],
      "execution_count": null,
      "outputs": [
        {
          "output_type": "stream",
          "name": "stdout",
          "text": [
            "Collecting tensorflow_probability==0.8.0rc0\n",
            "  Downloading tensorflow_probability-0.8.0rc0-py2.py3-none-any.whl (2.5 MB)\n",
            "\u001b[K     |████████████████████████████████| 2.5 MB 4.1 MB/s \n",
            "\u001b[?25hRequirement already satisfied: numpy>=1.13.3 in /usr/local/lib/python3.7/dist-packages (from tensorflow_probability==0.8.0rc0) (1.19.5)\n",
            "Requirement already satisfied: six>=1.10.0 in /usr/local/lib/python3.7/dist-packages (from tensorflow_probability==0.8.0rc0) (1.15.0)\n",
            "Collecting cloudpickle==1.1.1\n",
            "  Downloading cloudpickle-1.1.1-py2.py3-none-any.whl (17 kB)\n",
            "Requirement already satisfied: decorator in /usr/local/lib/python3.7/dist-packages (from tensorflow_probability==0.8.0rc0) (4.4.2)\n",
            "Installing collected packages: cloudpickle, tensorflow-probability\n",
            "\u001b[31mERROR: pip's dependency resolver does not currently take into account all the packages that are installed. This behaviour is the source of the following dependency conflicts.\n",
            "gym 0.17.3 requires cloudpickle<1.7.0,>=1.2.0, but you have cloudpickle 1.1.1 which is incompatible.\u001b[0m\n",
            "Successfully installed cloudpickle-1.1.1 tensorflow-probability-0.8.0rc0\n"
          ]
        }
      ]
    },
    {
      "cell_type": "code",
      "metadata": {
        "id": "8O8oYKSl680H"
      },
      "source": [
        "import tensorflow_probability as tfp "
      ],
      "execution_count": null,
      "outputs": []
    },
    {
      "cell_type": "code",
      "metadata": {
        "id": "LG_dOzO47HXt"
      },
      "source": [
        "tfd = tfp.distributions  # making a shortcut for later on\n",
        "initial_distribution = tfd.Categorical(probs=[0.2, 0.8])  # Refer to point 2 above\n",
        "transition_distribution = tfd.Categorical(probs=[[0.7, 0.3],\n",
        "                                                 [0.2, 0.8]])  # refer to points 3 and 4 above\n",
        "observation_distribution = tfd.Normal(loc=[0., 15.], scale=[5., 10.])  # refer to point 5 above"
      ],
      "execution_count": null,
      "outputs": []
    },
    {
      "cell_type": "code",
      "metadata": {
        "id": "EwYuMpon72Fj"
      },
      "source": [
        "model = tfd.HiddenMarkovModel(\n",
        "    initial_distribution=initial_distribution,\n",
        "    transition_distribution=transition_distribution,\n",
        "    observation_distribution=observation_distribution,\n",
        "    num_steps=7)"
      ],
      "execution_count": null,
      "outputs": []
    },
    {
      "cell_type": "code",
      "metadata": {
        "colab": {
          "base_uri": "https://localhost:8080/"
        },
        "id": "SJpYKmM-8FyF",
        "outputId": "a472cc14-2f19-4e3b-d00c-77aca701e50f"
      },
      "source": [
        "mean = model.mean()\n",
        "\n",
        "# due to the way TensorFlow works on a lower level we need to evaluate part of the graph\n",
        "# from within a session to see the value of this tensor\n",
        "\n",
        "# in the new version of tensorflow we need to use tf.compat.v1.Session() rather than just tf.Session()\n",
        "with tf.compat.v1.Session() as sess:  \n",
        "  print(mean.numpy())"
      ],
      "execution_count": null,
      "outputs": [
        {
          "output_type": "stream",
          "name": "stdout",
          "text": [
            "[11.999999 10.500001  9.75      9.375     9.1875    9.09375   9.046875]\n"
          ]
        }
      ]
    },
    {
      "cell_type": "code",
      "metadata": {
        "id": "r4FUBa_c8PrB"
      },
      "source": [
        ""
      ],
      "execution_count": null,
      "outputs": []
    }
  ]
}